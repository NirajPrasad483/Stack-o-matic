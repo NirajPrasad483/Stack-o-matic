{
 "cells": [
  {
   "cell_type": "code",
   "execution_count": null,
   "id": "32f9051f-b53c-4d4d-8089-705bc648ce3b",
   "metadata": {},
   "outputs": [],
   "source": [
    "import numpy as np"
   ]
  },
  {
   "cell_type": "markdown",
   "id": "33043c3d-9c3f-4262-97d7-8e86bf6d197e",
   "metadata": {
    "jp-MarkdownHeadingCollapsed": true
   },
   "source": [
    "# Part 2: Numerical Analysis with NumPy"
   ]
  },
  {
   "cell_type": "markdown",
   "id": "662d2d0a-2d03-4758-ba45-07b82cf40f03",
   "metadata": {
    "jp-MarkdownHeadingCollapsed": true
   },
   "source": [
    "### Array Creation and Indexing"
   ]
  },
  {
   "cell_type": "markdown",
   "id": "8dc13360-a739-4384-83e4-684e135a0f83",
   "metadata": {
    "jp-MarkdownHeadingCollapsed": true
   },
   "source": [
    "##### Create a 1D NumPy array of integers from 1 to 20."
   ]
  },
  {
   "cell_type": "code",
   "execution_count": null,
   "id": "1a885fe4-9682-4880-ac3c-f93324e3612e",
   "metadata": {},
   "outputs": [
    {
     "name": "stdout",
     "output_type": "stream",
     "text": [
      "[ 1  2  3  4  5  6  7  8  9 10 11 12 13 14 15 16 17 18 19 20]\n"
     ]
    }
   ],
   "source": [
    "a= np.array(np.arange(1,21))   # with the help of arange , array will get the number between 0 and 21\n",
    "print(a)"
   ]
  },
  {
   "cell_type": "markdown",
   "id": "8a49e860-84e5-4084-acfb-fd76c3c0b65c",
   "metadata": {
    "jp-MarkdownHeadingCollapsed": true
   },
   "source": [
    "##### Extract the even numbers from this array using slicing."
   ]
  },
  {
   "cell_type": "code",
   "execution_count": null,
   "id": "ef48cb57-3fb4-400f-9def-36d8a88168b7",
   "metadata": {},
   "outputs": [
    {
     "name": "stdout",
     "output_type": "stream",
     "text": [
      "[ 2  4  6  8 10 12 14 16 18 20]\n"
     ]
    }
   ],
   "source": [
    "a= np.array(np.arange(2,21,2))\n",
    "print(a)"
   ]
  },
  {
   "cell_type": "markdown",
   "id": "5ff05eec-ee20-48f4-aeba-0d5452b054e6",
   "metadata": {
    "jp-MarkdownHeadingCollapsed": true
   },
   "source": [
    "##### Create a 2D array with 5 rows and 4 columns, filled with random integers between 10 and 100."
   ]
  },
  {
   "cell_type": "code",
   "execution_count": null,
   "id": "d7950952-26f9-486b-9b86-a02cc855306f",
   "metadata": {},
   "outputs": [
    {
     "name": "stdout",
     "output_type": "stream",
     "text": [
      "[[89 91 36 22]\n",
      " [18 18 92 12]\n",
      " [38 63 76 55]\n",
      " [68 66 27 92]\n",
      " [86 81 14 44]]\n"
     ]
    }
   ],
   "source": [
    "c=np.random.randint(10,101 , size=(5,4))\n",
    "print(c)"
   ]
  },
  {
   "cell_type": "markdown",
   "id": "f13be301-dd45-4a4c-9442-70099fa1b7ea",
   "metadata": {
    "jp-MarkdownHeadingCollapsed": true
   },
   "source": [
    "##### Extract a 3x2 subarray from the 2D array (e.g., first three rows, first two columns)."
   ]
  },
  {
   "cell_type": "code",
   "execution_count": null,
   "id": "fb371c66-59ca-4187-82d8-1b0e22a71add",
   "metadata": {},
   "outputs": [
    {
     "name": "stdout",
     "output_type": "stream",
     "text": [
      "[[18 92]\n",
      " [63 76]\n",
      " [66 27]]\n"
     ]
    }
   ],
   "source": [
    "d=c[1:4,1:3]\n",
    "print(d)"
   ]
  },
  {
   "cell_type": "markdown",
   "id": "84dccf77-ce11-4166-9c96-2a4db586750e",
   "metadata": {
    "jp-MarkdownHeadingCollapsed": true
   },
   "source": [
    "### Array Manipulation"
   ]
  },
  {
   "cell_type": "markdown",
   "id": "9bf1e4bc-507a-4e6d-881d-0e73c96a9313",
   "metadata": {
    "jp-MarkdownHeadingCollapsed": true
   },
   "source": [
    "##### Reshape the 1D array of integers into a 4x5 2D array."
   ]
  },
  {
   "cell_type": "code",
   "execution_count": null,
   "id": "2b2f3b45-002f-4722-b1a5-fb50baa7dd36",
   "metadata": {},
   "outputs": [
    {
     "name": "stdout",
     "output_type": "stream",
     "text": [
      "[ 1  2  3  4  5  6  7  8  9 10 11 12 13 14 15 16 17 18 19 20]\n",
      "[[ 1  2  3  4  5]\n",
      " [ 6  7  8  9 10]\n",
      " [11 12 13 14 15]\n",
      " [16 17 18 19 20]]\n"
     ]
    }
   ],
   "source": [
    "a=np.array(np.arange(1,21))\n",
    "print(a)\n",
    "\n",
    "b=a.reshape(4,5)\n",
    "print(b)"
   ]
  },
  {
   "cell_type": "markdown",
   "id": "394d1334-0d54-46a6-8a42-e7dd9142ab4e",
   "metadata": {
    "jp-MarkdownHeadingCollapsed": true
   },
   "source": [
    "##### Flatten the 2D array back to a 1D array and print it."
   ]
  },
  {
   "cell_type": "code",
   "execution_count": null,
   "id": "494ca0e7-96d5-4e06-ab4f-4d23d7811fd3",
   "metadata": {},
   "outputs": [
    {
     "name": "stdout",
     "output_type": "stream",
     "text": [
      "[ 1  2  3  4  5  6  7  8  9 10 11 12 13 14 15 16 17 18 19 20]\n"
     ]
    }
   ],
   "source": [
    "c=b.flatten()\n",
    "print(c)"
   ]
  },
  {
   "cell_type": "markdown",
   "id": "10bdd5ca-5f98-4c58-8cab-f1d7642b5d92",
   "metadata": {},
   "source": [
    "##### Perform matrix multiplication between two 2D arrays (you can generate the second 2D array randomly)."
   ]
  },
  {
   "cell_type": "code",
   "execution_count": null,
   "id": "63de0a01-ed18-4dce-9ebb-4adcc01e384d",
   "metadata": {},
   "outputs": [
    {
     "name": "stdout",
     "output_type": "stream",
     "text": [
      "[[8 6 3 8]\n",
      " [1 6 5 5]\n",
      " [2 1 7 2]\n",
      " [2 9 8 2]\n",
      " [3 9 4 9]]\n",
      "[[15 14 16 16 18]\n",
      " [18 19 18 13 19]\n",
      " [17 12 17 15 13]\n",
      " [18 18 12 14 11]]\n",
      "[[423 406 383 363 385]\n",
      " [298 278 269 239 252]\n",
      " [203 167 193 178 168]\n",
      " [364 331 354 297 333]\n",
      " [437 423 386 351 376]]\n"
     ]
    }
   ],
   "source": [
    "a=np.array(np.random.randint(1,10,size=(5,4)))\n",
    "print(a)\n",
    "b=np.array(np.random.randint(11,20, size=(4,5)))\n",
    "print(b)\n",
    "print(np.matmul(a,b))      #it is the product of matrix a and then b ie. a*b. \n",
    "                    # if we write np.matmul(b,a) it will give us the product as b*a"
   ]
  },
  {
   "cell_type": "markdown",
   "id": "110506f0-cd48-4e2d-bac3-fcaa20628edf",
   "metadata": {
    "jp-MarkdownHeadingCollapsed": true
   },
   "source": [
    "### Boolean and Fancy Indexing"
   ]
  },
  {
   "cell_type": "markdown",
   "id": "17503905-b172-42e6-a5f3-c7b86adbd114",
   "metadata": {
    "jp-MarkdownHeadingCollapsed": true
   },
   "source": [
    "##### Create a NumPy array of 50 random integers between 0 and 100."
   ]
  },
  {
   "cell_type": "code",
   "execution_count": null,
   "id": "586665f8-ef85-4e2a-bf50-00dd18009b9e",
   "metadata": {},
   "outputs": [
    {
     "name": "stdout",
     "output_type": "stream",
     "text": [
      "[86 39 45 44 41 25 99 32 21 56 20 38 32 69 88 21 58  4 97 18 40 52 54 30\n",
      " 77 66  3 60 16 32 41  6 81 58 12 29 71 10  6 55 50 47 50 24 99 36  7 64\n",
      " 74 97]\n"
     ]
    }
   ],
   "source": [
    "a = np.random.randint(1,100, size=50)\n",
    "print(a)"
   ]
  },
  {
   "cell_type": "markdown",
   "id": "f7d837ae-ea75-48db-8302-5ae13ba6d97b",
   "metadata": {
    "jp-MarkdownHeadingCollapsed": true
   },
   "source": [
    "##### Use Boolean indexing to extract all values greater than 50 from the array"
   ]
  },
  {
   "cell_type": "code",
   "execution_count": null,
   "id": "90e79b9d-c7db-4f21-9283-45bb7a66d6d8",
   "metadata": {},
   "outputs": [
    {
     "name": "stdout",
     "output_type": "stream",
     "text": [
      "[[ True False False False False False  True False False  True False False\n",
      "  False  True  True False  True False  True False False  True  True False\n",
      "   True  True False  True False False False False  True  True False False\n",
      "   True False False  True False False False False  True False False  True\n",
      "   True  True]]\n"
     ]
    }
   ],
   "source": [
    "b=np.array([a>50])\n",
    "print(b)"
   ]
  },
  {
   "cell_type": "markdown",
   "id": "ed97c616-78ee-4bc3-a0d3-fc7cdd65fd69",
   "metadata": {
    "jp-MarkdownHeadingCollapsed": true
   },
   "source": [
    "##### Use fancy indexing to extract elements from the array at specific indices."
   ]
  },
  {
   "cell_type": "code",
   "execution_count": null,
   "id": "f87286c9-5b2e-4394-aa5e-7add86692100",
   "metadata": {},
   "outputs": [
    {
     "name": "stdout",
     "output_type": "stream",
     "text": [
      "[54 47 58  6 47 29 64 99 74 58 24 66 29 16 44 32 55  3 88 97 41  6  7 88\n",
      " 16 52 29  6 18 32 32 44 55 88 32 97 69 18 12 25 88 30 44  3 60 97 41  3\n",
      "  6 12]\n"
     ]
    }
   ],
   "source": [
    "b=np.random.randint(0,50, size=50)\n",
    "c=a[b]\n",
    "print(c)         #b is an random array whose elements lies between 0 and 50 , and c is an array whose elemnets point towards to a by the index \n",
    "                 #of the elements in b , which is also random"
   ]
  },
  {
   "cell_type": "markdown",
   "id": "51df869c-a328-4be3-b311-f934cf10f46c",
   "metadata": {
    "jp-MarkdownHeadingCollapsed": true
   },
   "source": [
    "### Statistical Operations"
   ]
  },
  {
   "cell_type": "markdown",
   "id": "26b44ada-37ab-40e0-8245-14756efda047",
   "metadata": {
    "jp-MarkdownHeadingCollapsed": true
   },
   "source": [
    "##### For the 2D array created earlier, calculate the mean, max, and sum along each column"
   ]
  },
  {
   "cell_type": "code",
   "execution_count": null,
   "id": "02365c42-bdbe-4276-952d-83eb4279e0b4",
   "metadata": {},
   "outputs": [
    {
     "name": "stdout",
     "output_type": "stream",
     "text": [
      "[[61 16 52 75  3]\n",
      " [69 96 12 92 88]\n",
      " [47 83 68 98 12]\n",
      " [79  1  1 60 53]\n",
      " [85 30 28 52 56]\n",
      " [20 96  8 16 31]\n",
      " [14 18 75 68 76]\n",
      " [51 17 39 94 80]\n",
      " [41 46 11 50 71]\n",
      " [69 70 74 90 40]]\n",
      "[53.6 47.3 36.8 69.5 51. ]\n",
      "[85 96 75 98 88]\n",
      "[536 473 368 695 510]\n"
     ]
    }
   ],
   "source": [
    "a=np.array(np.random.randint(1,100, size=(10,5)))\n",
    "mean = np.mean(a,axis=0)           #this array contain all the mean value along the column as axis is 0\n",
    "maxm = np.max(a,axis=0 )            #this array contain maximum  value along the column as axis is 0\n",
    "sumation = np.sum(a,axis=0)        #this array contain summation along the column as axis is 0\n",
    "print(a)         \n",
    "print(mean)\n",
    "print(maxm)\n",
    "print(sumation)"
   ]
  },
  {
   "cell_type": "markdown",
   "id": "c7821ccf-cd0d-4c4a-b7b2-ad142583f03e",
   "metadata": {
    "jp-MarkdownHeadingCollapsed": true
   },
   "source": [
    "##### Create a mask to select elements that are greater than the mean value for each column and apply the mask to filter the array."
   ]
  },
  {
   "cell_type": "code",
   "execution_count": null,
   "id": "a81572c3-af9d-4192-8805-8ec8cfa835d7",
   "metadata": {},
   "outputs": [
    {
     "name": "stdout",
     "output_type": "stream",
     "text": [
      "[[ True False  True  True False]\n",
      " [ True  True False  True  True]\n",
      " [False  True  True  True False]\n",
      " [ True False False False  True]\n",
      " [ True False False False  True]\n",
      " [False  True False False False]\n",
      " [False False  True False  True]\n",
      " [False False  True  True  True]\n",
      " [False False False False  True]\n",
      " [ True  True  True  True False]]\n",
      "[61 52 75 69 96 92 88 83 68 98 79 53 85 56 96 75 76 39 94 80 71 69 70 74\n",
      " 90]\n"
     ]
    }
   ],
   "source": [
    "mask = a > mean\n",
    "print(mask)\n",
    "required = a[mask]\n",
    "print(required)"
   ]
  },
  {
   "cell_type": "markdown",
   "id": "57007df7-49d5-43f8-9d00-4d75178ffad8",
   "metadata": {
    "jp-MarkdownHeadingCollapsed": true
   },
   "source": [
    "# Part 4: Bonus Challenge"
   ]
  },
  {
   "cell_type": "markdown",
   "id": "2de7ac2a-4fcc-41f3-b990-f023eb08ca3a",
   "metadata": {
    "jp-MarkdownHeadingCollapsed": true
   },
   "source": [
    "### Advanced NumPy Manipulation"
   ]
  },
  {
   "cell_type": "markdown",
   "id": "53728363-d47d-40ee-b103-442752fb3523",
   "metadata": {
    "jp-MarkdownHeadingCollapsed": true
   },
   "source": [
    "##### Create a 3D NumPy array with specific dimensions and populate it with random numbers"
   ]
  },
  {
   "cell_type": "code",
   "execution_count": null,
   "id": "8e9f8cfc-48ec-4512-ac87-8c0889e89dd5",
   "metadata": {},
   "outputs": [
    {
     "name": "stdout",
     "output_type": "stream",
     "text": [
      "[[[28  3 89 25 21 88]\n",
      "  [ 7 36 50 54 81  4]\n",
      "  [16 94  9 89 85 26]\n",
      "  [ 6 40 86 55 81 38]\n",
      "  [30 75 86 38 99 42]]\n",
      "\n",
      " [[ 6 49 99 18 88 77]\n",
      "  [10 48 41 79 37 59]\n",
      "  [88 80 14 33 45 76]\n",
      "  [63 71 20  3 36 31]\n",
      "  [48 59 99 93 42 10]]\n",
      "\n",
      " [[87 74 38 74 87  4]\n",
      "  [ 8 30 24  4 39 63]\n",
      "  [40 38 66 74  7 22]\n",
      "  [13 37 35 97 55 77]\n",
      "  [28 28 88 45  2 36]]\n",
      "\n",
      " [[85 42 52 56 76 48]\n",
      "  [72 85 43 32 42 39]\n",
      "  [68 21 26 97 79 84]\n",
      "  [84 99 87  5 77 69]\n",
      "  [ 8 69 95 38 27 47]]]\n"
     ]
    }
   ],
   "source": [
    "a=np.array(np.random.randint(1,100, size=(4,5,6)))\n",
    "print(a)"
   ]
  },
  {
   "cell_type": "markdown",
   "id": "cbd11daa-8bf4-4030-a8cc-5f60cef108bd",
   "metadata": {
    "jp-MarkdownHeadingCollapsed": true
   },
   "source": [
    "##### Swap two of its axes."
   ]
  },
  {
   "cell_type": "code",
   "execution_count": null,
   "id": "c86844a9-f09d-4f0d-aea3-80df469380a4",
   "metadata": {},
   "outputs": [
    {
     "name": "stdout",
     "output_type": "stream",
     "text": [
      "[[[28  3 89 25 21 88]\n",
      "  [ 6 49 99 18 88 77]\n",
      "  [87 74 38 74 87  4]\n",
      "  [85 42 52 56 76 48]]\n",
      "\n",
      " [[ 7 36 50 54 81  4]\n",
      "  [10 48 41 79 37 59]\n",
      "  [ 8 30 24  4 39 63]\n",
      "  [72 85 43 32 42 39]]\n",
      "\n",
      " [[16 94  9 89 85 26]\n",
      "  [88 80 14 33 45 76]\n",
      "  [40 38 66 74  7 22]\n",
      "  [68 21 26 97 79 84]]\n",
      "\n",
      " [[ 6 40 86 55 81 38]\n",
      "  [63 71 20  3 36 31]\n",
      "  [13 37 35 97 55 77]\n",
      "  [84 99 87  5 77 69]]\n",
      "\n",
      " [[30 75 86 38 99 42]\n",
      "  [48 59 99 93 42 10]\n",
      "  [28 28 88 45  2 36]\n",
      "  [ 8 69 95 38 27 47]]]\n"
     ]
    }
   ],
   "source": [
    "swap = np.swapaxes(a,0,1)      #here i have swaped axis 0 and 1 hence now its size is 5,4,6\n",
    "print(swap)"
   ]
  },
  {
   "cell_type": "markdown",
   "id": "d4f2f208-2eea-4ea2-866f-d8dc3229c6c1",
   "metadata": {
    "jp-MarkdownHeadingCollapsed": true
   },
   "source": [
    "##### Perform an operation to calculate the sum of all the elements along a particular axis."
   ]
  },
  {
   "cell_type": "code",
   "execution_count": null,
   "id": "8fd4e0ea-a640-41d7-bf55-4384d0151913",
   "metadata": {},
   "outputs": [
    {
     "name": "stdout",
     "output_type": "stream",
     "text": [
      "[[206 168 278 173 272 217]\n",
      " [ 97 199 158 169 199 165]\n",
      " [212 233 115 293 216 208]\n",
      " [166 247 228 160 249 215]\n",
      " [114 231 368 214 170 135]]\n",
      "[[ 87 248 320 261 367 198]\n",
      " [215 307 273 226 248 253]\n",
      " [176 207 251 294 190 202]\n",
      " [317 316 303 228 301 287]]\n",
      "[[254 232 319 306 370]\n",
      " [337 274 336 224 351]\n",
      " [364 168 247 314 227]\n",
      " [359 313 375 421 284]]\n"
     ]
    }
   ],
   "source": [
    "sum_0 = np.sum(a,axis=0)       #calculate sum along the depth \n",
    "print(sum_0)\n",
    "\n",
    "sum_1 = np.sum(a,axis=1)       #calculate sum along the column of each slice\n",
    "print(sum_1)\n",
    "\n",
    "sum_2 = np.sum(a,axis=2)       #calculate sum along row of each slice\n",
    "print(sum_2)"
   ]
  },
  {
   "cell_type": "markdown",
   "id": "28ec86df-6092-4a91-82a2-9f53b0bd2f8b",
   "metadata": {
    "jp-MarkdownHeadingCollapsed": true
   },
   "source": [
    "##### Generate a random array and use broadcasting to perform an operation that adds a vector to each row of a 2D array."
   ]
  },
  {
   "cell_type": "code",
   "execution_count": null,
   "id": "9531b625-75c4-4b5f-90d7-d91eca494125",
   "metadata": {},
   "outputs": [
    {
     "name": "stdout",
     "output_type": "stream",
     "text": [
      "[[38 90 25 71 65]\n",
      " [45 53 47 54 38]\n",
      " [59 53 46 50 49]\n",
      " [98 97 79  5 55]\n",
      " [62 52  7 30  6]\n",
      " [17 73 55  5 86]\n",
      " [69 76 77 59 37]\n",
      " [11 88 35 52 19]\n",
      " [49 21  6 62 67]\n",
      " [89 91 22 89 54]]\n",
      "    \n",
      "[34 65 84 99 14]\n",
      "   \n",
      "[[ 72 155 109 170  79]\n",
      " [ 79 118 131 153  52]\n",
      " [ 93 118 130 149  63]\n",
      " [132 162 163 104  69]\n",
      " [ 96 117  91 129  20]\n",
      " [ 51 138 139 104 100]\n",
      " [103 141 161 158  51]\n",
      " [ 45 153 119 151  33]\n",
      " [ 83  86  90 161  81]\n",
      " [123 156 106 188  68]]\n"
     ]
    }
   ],
   "source": [
    "a_2d = np.array(np.random.randint(1,100, size=(10,5)))\n",
    "print(a_2d)\n",
    "print(\"    \")\n",
    "a_1d = np.random.randint(1,100, size=5)\n",
    "print(a_1d)\n",
    "print(\"   \")\n",
    "sum = a_2d + a_1d\n",
    "print(sum)"
   ]
  },
  {
   "cell_type": "markdown",
   "id": "831b85cd-c9d3-4866-b5cc-bc5b207ced05",
   "metadata": {
    "jp-MarkdownHeadingCollapsed": true
   },
   "source": [
    "# Part 3: Problem Solving with Python Basics"
   ]
  },
  {
   "cell_type": "markdown",
   "id": "16653303-17f4-455a-948d-585e245ca0cf",
   "metadata": {},
   "source": [
    "### Loops and Conditional Statements"
   ]
  },
  {
   "cell_type": "markdown",
   "id": "7f92914d-0b3a-484e-9ef0-843c7b3d8fd8",
   "metadata": {
    "jp-MarkdownHeadingCollapsed": true
   },
   "source": [
    "##### Print the Fibonacci sequence up to 100 using a loop.\n"
   ]
  },
  {
   "cell_type": "code",
   "execution_count": null,
   "id": "f38ef792-d4e8-4b32-a521-47dd8890d2cf",
   "metadata": {},
   "outputs": [
    {
     "name": "stdout",
     "output_type": "stream",
     "text": [
      "1\n",
      "1\n",
      "2\n",
      "3\n",
      "5\n",
      "8\n",
      "13\n",
      "21\n",
      "34\n",
      "55\n",
      "89\n",
      "144\n",
      "233\n",
      "377\n",
      "610\n",
      "987\n",
      "1597\n",
      "2584\n",
      "4181\n",
      "6765\n",
      "10946\n",
      "17711\n",
      "28657\n",
      "46368\n",
      "75025\n",
      "121393\n",
      "196418\n",
      "317811\n",
      "514229\n",
      "832040\n",
      "1346269\n",
      "2178309\n",
      "3524578\n",
      "5702887\n",
      "9227465\n",
      "14930352\n",
      "24157817\n",
      "39088169\n",
      "63245986\n",
      "102334155\n",
      "165580141\n",
      "267914296\n",
      "433494437\n",
      "701408733\n",
      "1134903170\n",
      "1836311903\n",
      "2971215073\n",
      "4807526976\n",
      "7778742049\n",
      "12586269025\n",
      "20365011074\n",
      "32951280099\n",
      "53316291173\n",
      "86267571272\n",
      "139583862445\n",
      "225851433717\n",
      "365435296162\n",
      "591286729879\n",
      "956722026041\n",
      "1548008755920\n",
      "2504730781961\n",
      "4052739537881\n",
      "6557470319842\n",
      "10610209857723\n",
      "17167680177565\n",
      "27777890035288\n",
      "44945570212853\n",
      "72723460248141\n",
      "117669030460994\n",
      "190392490709135\n",
      "308061521170129\n",
      "498454011879264\n",
      "806515533049393\n",
      "1304969544928657\n",
      "2111485077978050\n",
      "3416454622906707\n",
      "5527939700884757\n",
      "8944394323791464\n",
      "14472334024676221\n",
      "23416728348467685\n",
      "37889062373143906\n",
      "61305790721611591\n",
      "99194853094755497\n",
      "160500643816367088\n",
      "259695496911122585\n",
      "420196140727489673\n",
      "679891637638612258\n",
      "1100087778366101931\n",
      "1779979416004714189\n",
      "2880067194370816120\n",
      "4660046610375530309\n",
      "7540113804746346429\n",
      "12200160415121876738\n",
      "19740274219868223167\n",
      "31940434634990099905\n",
      "51680708854858323072\n",
      "83621143489848422977\n",
      "135301852344706746049\n",
      "218922995834555169026\n",
      "354224848179261915075\n"
     ]
    }
   ],
   "source": [
    "i=1\n",
    "a=1\n",
    "b=1\n",
    "print(a)\n",
    "print(b)\n",
    "c=a+b\n",
    "while i<=98:\n",
    "    print(c)\n",
    "    a=b\n",
    "    b=c\n",
    "    c=a+b\n",
    "    i=i+1\n"
   ]
  },
  {
   "cell_type": "markdown",
   "id": "7d0c6a84-5acb-4539-951a-e859b0afd910",
   "metadata": {
    "jp-MarkdownHeadingCollapsed": true
   },
   "source": [
    "##### Loop through the numbers from 1 to 50 and print:\n",
    "\"Fizz\" for multiples of 3.\n",
    "\"Buzz\" for multiples of 5.\n",
    "\"FizzBuzz\" for multiples of both 3 and 5."
   ]
  },
  {
   "cell_type": "code",
   "execution_count": null,
   "id": "dc7a7604-b0db-4516-bedd-fc46692e3c80",
   "metadata": {},
   "outputs": [
    {
     "name": "stdout",
     "output_type": "stream",
     "text": [
      "1\n",
      "2\n",
      "Fizz\n",
      "4\n",
      "Buzz\n",
      "Fizz\n",
      "7\n",
      "8\n",
      "Fizz\n",
      "Buzz\n",
      "11\n",
      "Fizz\n",
      "13\n",
      "14\n",
      "FizzBuzz\n",
      "16\n",
      "17\n",
      "Fizz\n",
      "19\n",
      "Buzz\n",
      "Fizz\n",
      "22\n",
      "23\n",
      "Fizz\n",
      "Buzz\n",
      "26\n",
      "Fizz\n",
      "28\n",
      "29\n",
      "FizzBuzz\n",
      "31\n",
      "32\n",
      "Fizz\n",
      "34\n",
      "Buzz\n",
      "Fizz\n",
      "37\n",
      "38\n",
      "Fizz\n",
      "Buzz\n",
      "41\n",
      "Fizz\n",
      "43\n",
      "44\n",
      "FizzBuzz\n",
      "46\n",
      "47\n",
      "Fizz\n",
      "49\n",
      "Buzz\n"
     ]
    }
   ],
   "source": [
    "for i in range(1,51):\n",
    "    if i%15==0:\n",
    "        print(\"FizzBuzz\")\n",
    "    elif i%3==0:\n",
    "        print(\"Fizz\")\n",
    "    elif i%5==0:\n",
    "        print(\"Buzz\")\n",
    "    else :\n",
    "        print(i)"
   ]
  },
  {
   "cell_type": "markdown",
   "id": "533059f9-30c5-4f4f-a47a-8d0b882cd2e6",
   "metadata": {
    "jp-MarkdownHeadingCollapsed": true
   },
   "source": [
    "### Variable-Length Arguments"
   ]
  },
  {
   "cell_type": "markdown",
   "id": "e55e6eff-704b-4bb5-b4d5-8454cfe038ec",
   "metadata": {},
   "source": [
    "##### Write a solution that accepts a list of numbers and returns the median value."
   ]
  },
  {
   "cell_type": "code",
   "execution_count": null,
   "id": "20986077-8f89-40cb-9185-29571678ee61",
   "metadata": {
    "scrolled": true
   },
   "outputs": [
    {
     "name": "stdout",
     "output_type": "stream",
     "text": [
      "How many numbers do you want to enter: 2\n",
      "enter the number: 1\n",
      "enter the number: 2\n"
     ]
    },
    {
     "name": "stdout",
     "output_type": "stream",
     "text": [
      "the required median of your data is:1.5\n"
     ]
    }
   ],
   "source": [
    "list = []\n",
    "n=int(input(\"How many numbers do you want to enter:\"))\n",
    "i=0\n",
    "while i<n:\n",
    "    num =int(input(\"enter the number:\"))\n",
    "    list.append(num)\n",
    "    i +=1\n",
    "list.sort()\n",
    "m= (list[n//2]+list[n//2 -1])/2\n",
    "\n",
    "if n%2!=0:\n",
    "    print(\"the required median of your data is:\" + str(list[n // 2]))\n",
    "else :\n",
    "    print(f\"the required median of your data is:{m}\")\n"
   ]
  },
  {
   "cell_type": "markdown",
   "id": "a93cb38b-14d4-461f-800a-3b93b1dd5a7b",
   "metadata": {},
   "source": [
    "##### Write a solution that accepts a variable number of arguments and returns the average of the numbers."
   ]
  },
  {
   "cell_type": "code",
   "execution_count": null,
   "id": "e12eca32-08fe-4fab-a609-1ff3c29f9112",
   "metadata": {},
   "outputs": [
    {
     "name": "stdout",
     "output_type": "stream",
     "text": [
      "enter 'spacebar' if you have entered all your number\n"
     ]
    },
    {
     "name": "stdout",
     "output_type": "stream",
     "text": [
      "enter the number: 1\n",
      "enter the number:  \n"
     ]
    },
    {
     "name": "stdout",
     "output_type": "stream",
     "text": [
      "mean of the data provided by you is 1.0\n"
     ]
    }
   ],
   "source": [
    "list =[]\n",
    "print(\"enter 'spacebar' if you have entered all your number\" )\n",
    "while True:\n",
    "    a = input(\"enter the number:\")\n",
    "    if a==\" \":\n",
    "        break\n",
    "    list.append(int(a))\n",
    "n=len(list)\n",
    "b=0\n",
    "for i in range(0,n):\n",
    "    b=b+list[i]\n",
    "print(f'mean of the data provided by you is {b/n}')"
   ]
  },
  {
   "cell_type": "markdown",
   "id": "a5c845d0-d811-428f-89e4-7dbe11652248",
   "metadata": {
    "jp-MarkdownHeadingCollapsed": true
   },
   "source": [
    "### Error Handling"
   ]
  },
  {
   "cell_type": "markdown",
   "id": "6887c0c0-c8e9-4b1b-9eba-df9b64c12ed6",
   "metadata": {},
   "source": [
    "##### Handle the case where a division by zero occurs and print an appropriate error message."
   ]
  },
  {
   "cell_type": "code",
   "execution_count": null,
   "id": "5bb7bca4-1305-4e5c-9724-961790eabd40",
   "metadata": {},
   "outputs": [
    {
     "name": "stdout",
     "output_type": "stream",
     "text": [
      "Enter first numbere: 1\n",
      "Enter second number: 2\n"
     ]
    },
    {
     "name": "stdout",
     "output_type": "stream",
     "text": [
      "a divide by b is 0.5\n",
      "b divide by a is 2.0\n"
     ]
    }
   ],
   "source": [
    "## we will creat an calculator using python only for division\n",
    "a=int(input(\"Enter first numbere:\"))\n",
    "b=int(input(\"Enter second number:\"))\n",
    "if b!=0:\n",
    "    print(f\"a divide by b is {a/b}\")\n",
    "else :\n",
    "    print(\"a divide by b is not defined\")\n",
    "if a!=0:\n",
    "    print(f\"b divide by a is {b / a}\")\n",
    "else:\n",
    "    print(\"b divide by a is not defined\")\n"
   ]
  },
  {
   "cell_type": "code",
   "execution_count": null,
   "id": "80839a8b-3598-4368-9f0e-7139ef47e6dc",
   "metadata": {},
   "outputs": [],
   "source": []
  }
 ],
 "metadata": {
  "kernelspec": {
   "display_name": "Python 3 (ipykernel)",
   "language": "python",
   "name": "python3"
  },
  "language_info": {
   "codemirror_mode": {
    "name": "ipython",
    "version": 3
   },
   "file_extension": ".py",
   "mimetype": "text/x-python",
   "name": "python",
   "nbconvert_exporter": "python",
   "pygments_lexer": "ipython3",
   "version": "3.12.7"
  }
 },
 "nbformat": 4,
 "nbformat_minor": 5
}
